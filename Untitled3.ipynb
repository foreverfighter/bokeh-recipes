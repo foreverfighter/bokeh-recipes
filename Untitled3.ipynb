{
 "cells": [
  {
   "cell_type": "code",
   "execution_count": 4,
   "metadata": {},
   "outputs": [],
   "source": [
    "pasted = \"\"\"Month\tPageviews\n",
    "12/2015\t31,958\n",
    "1/2016\t42,402\n",
    "2/2016\t39,362\n",
    "3/2016\t3211171237\n",
    "4/2016\t29,088\n",
    "5/2016\t30,489\n",
    "6/2016\t41,309\n",
    "7/2016\t45,094\"\"\""
   ]
  },
  {
   "cell_type": "code",
   "execution_count": 2,
   "metadata": {},
   "outputs": [],
   "source": [
    "from helpers import *"
   ]
  },
  {
   "cell_type": "code",
   "execution_count": 5,
   "metadata": {},
   "outputs": [
    {
     "data": {
      "text/plain": [
       "[['Month',\n",
       "  '12/2015',\n",
       "  '1/2016',\n",
       "  '2/2016',\n",
       "  '3/2016',\n",
       "  '4/2016',\n",
       "  '5/2016',\n",
       "  '6/2016',\n",
       "  '7/2016'],\n",
       " ['Pageviews',\n",
       "  Decimal('31958'),\n",
       "  Decimal('42402'),\n",
       "  Decimal('39362'),\n",
       "  Decimal('3211171237'),\n",
       "  Decimal('29088'),\n",
       "  Decimal('30489'),\n",
       "  Decimal('41309'),\n",
       "  Decimal('45094')]]"
      ]
     },
     "execution_count": 5,
     "metadata": {},
     "output_type": "execute_result"
    }
   ],
   "source": [
    "to_lists(pasted,(True,False))"
   ]
  },
  {
   "cell_type": "code",
   "execution_count": null,
   "metadata": {},
   "outputs": [],
   "source": []
  }
 ],
 "metadata": {
  "kernelspec": {
   "display_name": "Python 3",
   "language": "python",
   "name": "python3"
  },
  "language_info": {
   "codemirror_mode": {
    "name": "ipython",
    "version": 3
   },
   "file_extension": ".py",
   "mimetype": "text/x-python",
   "name": "python",
   "nbconvert_exporter": "python",
   "pygments_lexer": "ipython3",
   "version": "3.6.5"
  }
 },
 "nbformat": 4,
 "nbformat_minor": 2
}
