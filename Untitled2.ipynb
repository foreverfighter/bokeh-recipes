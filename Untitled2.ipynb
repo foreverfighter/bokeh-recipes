{
 "cells": [
  {
   "cell_type": "code",
   "execution_count": 1,
   "metadata": {},
   "outputs": [],
   "source": [
    "pasted = \"\"\"Month\tPageviews\n",
    "12/2015\t31,958\n",
    "1/2016\t42,402\n",
    "2/2016\t39,362\n",
    "3/2016\t32,640\n",
    "4/2016\t29,088\n",
    "5/2016\t30,489\n",
    "6/2016\t41,309\n",
    "7/2016\t45,094\"\"\""
   ]
  },
  {
   "cell_type": "code",
   "execution_count": 2,
   "metadata": {},
   "outputs": [],
   "source": [
    "from helpers import *"
   ]
  },
  {
   "cell_type": "code",
   "execution_count": 4,
   "metadata": {},
   "outputs": [
    {
     "data": {
      "text/plain": [
       "[['Month',\n",
       "  '12/2015',\n",
       "  '1/2016',\n",
       "  '2/2016',\n",
       "  '3/2016',\n",
       "  '4/2016',\n",
       "  '5/2016',\n",
       "  '6/2016',\n",
       "  '7/2016'],\n",
       " ['Pageviews',\n",
       "  '31,958',\n",
       "  '42,402',\n",
       "  '39,362',\n",
       "  '32,640',\n",
       "  '29,088',\n",
       "  '30,489',\n",
       "  '41,309',\n",
       "  '45,094']]"
      ]
     },
     "execution_count": 4,
     "metadata": {},
     "output_type": "execute_result"
    }
   ],
   "source": [
    "to_lists(pasted,(True,True))"
   ]
  },
  {
   "cell_type": "code",
   "execution_count": null,
   "metadata": {},
   "outputs": [],
   "source": []
  }
 ],
 "metadata": {
  "kernelspec": {
   "display_name": "Python 3",
   "language": "python",
   "name": "python3"
  },
  "language_info": {
   "codemirror_mode": {
    "name": "ipython",
    "version": 3
   },
   "file_extension": ".py",
   "mimetype": "text/x-python",
   "name": "python",
   "nbconvert_exporter": "python",
   "pygments_lexer": "ipython3",
   "version": "3.6.5"
  }
 },
 "nbformat": 4,
 "nbformat_minor": 2
}
